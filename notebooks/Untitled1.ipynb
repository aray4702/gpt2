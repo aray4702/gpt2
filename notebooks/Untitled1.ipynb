{
 "cells": [
  {
   "cell_type": "code",
   "execution_count": null,
   "metadata": {
    "colab": {
     "base_uri": "https://localhost:8080/",
     "height": 108
    },
    "executionInfo": {
     "elapsed": 14,
     "status": "error",
     "timestamp": 1750803238386,
     "user": {
      "displayName": "test user1",
      "userId": "00789796017718277410"
     },
     "user_tz": 420
    },
    "id": "3JUSGRg-hmkU",
    "outputId": "f4914df9-e8fe-4747-d8f5-8dcbf67ab51d"
   },
   "outputs": [
    {
     "ename": "",
     "evalue": "",
     "output_type": "error",
     "traceback": [
      "\u001b[1;31mRunning cells with 'Python 3.9.6' requires the ipykernel package.\n",
      "\u001b[1;31m<a href='command:jupyter.createPythonEnvAndSelectController'>Create a Python Environment</a> with the required packages.\n",
      "\u001b[1;31mOr install 'ipykernel' using the command: '/usr/bin/python3 -m pip install ipykernel -U --user --force-reinstall'"
     ]
    }
   ],
   "source": [
    "$$$ x+y = y $$$"
   ]
  },
  {
   "cell_type": "markdown",
   "metadata": {
    "id": "ceafMq5uAYTb"
   },
   "source": [
    "$f(x)\\overset{def}=\\underset{\\pi,\\theta}{argmax}\\space \\space {e^{\\frac{f(x)}{\\sqrt{g(x)^2}}}\\cdot x \\cdot \\sum_{i=0}^{n}{f_i(x)} ∏_{i=0}^{n}{g_i(x)\\underset{i}{h_i(x)}}\\overset{i}{k(x)}}$"
   ]
  }
 ],
 "metadata": {
  "colab": {
   "authorship_tag": "ABX9TyNZvod6taW+/eHpsX/nYZK2",
   "provenance": []
  },
  "kernelspec": {
   "display_name": "Python 3",
   "name": "python3"
  },
  "language_info": {
   "name": "python",
   "version": "3.9.6"
  }
 },
 "nbformat": 4,
 "nbformat_minor": 0
}
